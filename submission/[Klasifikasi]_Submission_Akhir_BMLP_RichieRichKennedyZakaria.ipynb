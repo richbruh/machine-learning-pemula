{
  "cells": [
    {
      "cell_type": "markdown",
      "metadata": {
        "id": "fKADPWcFKlj3"
      },
      "source": [
        "# **1. Import Library**"
      ]
    },
    {
      "cell_type": "markdown",
      "metadata": {
        "id": "LgA3ERnVn84N"
      },
      "source": [
        "Pada tahap ini, Anda perlu mengimpor beberapa pustaka (library) Python yang dibutuhkan untuk analisis data dan pembangunan model machine learning."
      ]
    },
    {
      "cell_type": "code",
      "execution_count": 6,
      "metadata": {
        "id": "BlmvjLY9M4Yj"
      },
      "outputs": [],
      "source": [
        "# Import library yang diperlukan\n",
        "import pandas as pd\n",
        "import numpy as np\n",
        "from sklearn.model_selection import train_test_split\n",
        "from sklearn.ensemble import RandomForestClassifier\n",
        "from sklearn.metrics import accuracy_score, classification_report, confusion_matrix\n",
        "import matplotlib.pyplot as plt\n",
        "import seaborn as sns\n",
        "\n",
        "# Pastikan untuk mengatur gaya visualisasi seaborn\n",
        "sns.set(style=\"whitegrid\")"
      ]
    },
    {
      "cell_type": "markdown",
      "metadata": {
        "id": "f3YIEnAFKrKL"
      },
      "source": [
        "# **2. Memuat Dataset dari Hasil Clustering**"
      ]
    },
    {
      "cell_type": "markdown",
      "metadata": {
        "id": "Ey3ItwTen_7E"
      },
      "source": [
        "Memuat dataset hasil clustering dari file CSV ke dalam variabel DataFrame."
      ]
    },
    {
      "cell_type": "code",
      "execution_count": 7,
      "metadata": {
        "id": "GHCGNTyrM5fS"
      },
      "outputs": [],
      "source": [
        "#Type your code here\n",
        "\n",
        "clustered_data = pd.read_csv(\"clustered_data.csv\")"
      ]
    },
    {
      "cell_type": "markdown",
      "metadata": {
        "id": "KkPem5eWL2UP"
      },
      "source": [
        "# **3. Data Splitting**"
      ]
    },
    {
      "cell_type": "markdown",
      "metadata": {
        "id": "YYj1rl_JNI9Y"
      },
      "source": [
        "Tahap Data Splitting bertujuan untuk memisahkan dataset menjadi dua bagian: data latih (training set) dan data uji (test set)."
      ]
    },
    {
      "cell_type": "code",
      "execution_count": 12,
      "metadata": {
        "id": "OubAW-7ONKVj"
      },
      "outputs": [
        {
          "name": "stdout",
          "output_type": "stream",
          "text": [
            "Ukuran X_train: (1995, 19)\n",
            "Ukuran X_test: (499, 19)\n",
            "Ukuran y_train: (1995,)\n",
            "Ukuran y_test: (499,)\n"
          ]
        }
      ],
      "source": [
        "# Definisikan X dan y\n",
        "X = clustered_data.drop(columns=['Cluster'])  # Ganti 'Cluster' dengan nama kolom target Anda\n",
        "y = clustered_data['Cluster']  # Ganti 'Cluster' dengan nama kolom target Anda\n",
        "\n",
        "# Splitting dataset into training and testing set 80% training and 20% testing\n",
        "X_train, X_test, y_train, y_test = train_test_split(X, y, test_size=0.2, random_state=0)\n",
        "\n",
        "# Verifikasi ukuran set pelatihan dan pengujian\n",
        "print(f\"Ukuran X_train: {X_train.shape}\")\n",
        "print(f\"Ukuran X_test: {X_test.shape}\")\n",
        "print(f\"Ukuran y_train: {y_train.shape}\")\n",
        "print(f\"Ukuran y_test: {y_test.shape}\")"
      ]
    },
    {
      "cell_type": "markdown",
      "metadata": {
        "id": "IVPbB03CMhTT"
      },
      "source": [
        "# **4. Membangun Model Klasifikasi**\n"
      ]
    },
    {
      "cell_type": "markdown",
      "metadata": {
        "id": "Ned1pL9zMmBK"
      },
      "source": [
        "## **a. Membangun Model Klasifikasi**"
      ]
    },
    {
      "cell_type": "markdown",
      "metadata": {
        "id": "WAWzPOE4Nkti"
      },
      "source": [
        "Setelah memilih algoritma klasifikasi yang sesuai, langkah selanjutnya adalah melatih model menggunakan data latih.\n",
        "\n",
        "Berikut adalah rekomendasi tahapannya.\n",
        "1. Pilih algoritma klasifikasi yang sesuai, seperti Logistic Regression, Decision Tree, Random Forest, atau K-Nearest Neighbors (KNN).\n",
        "2. Latih model menggunakan data latih."
      ]
    },
    {
      "cell_type": "code",
      "execution_count": null,
      "metadata": {
        "id": "4JYxBe87NLDk"
      },
      "outputs": [
        {
          "data": {
            "image/png": "[encoded data removed]",
            "text/plain": [
              "<Figure size 1000x700 with 2 Axes>"
            ]
          },
          "metadata": {},
          "output_type": "display_data"
        }
      ],
      "source": [
        "#Type your code here\n",
        "\n",
        "# Membangun Model Klasifikasi\n",
        "\n",
        "# Preprocessing: Menghapus kolom dengan tipe data non-numerik\n",
        "X_train_numeric = X_train.select_dtypes(include=['float64', 'int64', 'bool'])\n",
        "X_test_numeric = X_test.select_dtypes(include=['float64', 'int64', 'bool'])\n",
        "\n",
        "# Inisialisasi model Random Forest\n",
        "rf_model = RandomForestClassifier(n_estimators=100, random_state=42)\n",
        "\n",
        "# Melatih model dengan data training\n",
        "rf_model.fit(X_train_numeric, y_train)\n",
        "\n",
        "# Lakukan prediksi menggunakan data uji\n",
        "y_pred = rf_model.predict(X_test_numeric)\n",
        "\n",
        "\n",
        "# Buat confusion matrix untuk melihat detail prediksi benar dan salah\n",
        "plt.figure(figsize=(10, 7))\n",
        "sns.heatmap(conf_matrix, annot=True, fmt='d', cmap='Blues', xticklabels=rf_model.classes_, yticklabels=rf_model.classes_)\n",
        "plt.xlabel('Predicted')\n",
        "plt.ylabel('Actual')\n",
        "plt.title('Confusion Matrix')\n",
        "plt.show()"
      ]
    },
    {
      "cell_type": "markdown",
      "metadata": {
        "id": "seYoHNY3XU1y"
      },
      "source": [
        "Tulis narasi atau penjelasan algoritma yang Anda gunakan."
      ]
    },
    {
      "cell_type": "markdown",
      "metadata": {
        "id": "ergzChZFEL-O"
      },
      "source": [
        "## **b. Evaluasi Model Klasifikasi**"
      ]
    },
    {
      "cell_type": "markdown",
      "metadata": {
        "id": "zOm68u-7NpLT"
      },
      "source": [
        "Berikut adalah **rekomendasi** tahapannya.\n",
        "1. Lakukan prediksi menggunakan data uji.\n",
        "2. Hitung metrik evaluasi seperti Accuracy dan F1-Score (Opsional: Precision dan Recall).\n",
        "3. Buat confusion matrix untuk melihat detail prediksi benar dan salah."
      ]
    },
    {
      "cell_type": "code",
      "execution_count": 17,
      "metadata": {
        "id": "tMq4QAssNLip"
      },
      "outputs": [
        {
          "name": "stdout",
          "output_type": "stream",
          "text": [
            "Accuracy: 1.0000\n",
            "Classification Report:\n",
            "              precision    recall  f1-score   support\n",
            "\n",
            "           0       1.00      1.00      1.00       363\n",
            "           1       1.00      1.00      1.00       136\n",
            "\n",
            "    accuracy                           1.00       499\n",
            "   macro avg       1.00      1.00      1.00       499\n",
            "weighted avg       1.00      1.00      1.00       499\n",
            "\n"
          ]
        }
      ],
      "source": [
        "#Type your code here\n",
        "\n",
        "# Hitung metrik evaluasi\n",
        "accuracy = accuracy_score(y_test, y_pred)\n",
        "classification_rep = classification_report(y_test, y_pred)\n",
        "conf_matrix = confusion_matrix(y_test, y_pred)\n",
        "# Hitung metrik evaluasi\n",
        "accuracy = accuracy_score(y_test, y_pred)\n",
        "classification_rep = classification_report(y_test, y_pred)\n",
        "conf_matrix = confusion_matrix(y_test, y_pred)\n",
        "\n",
        "print(f\"Accuracy: {accuracy:.4f}\")\n",
        "print(\"Classification Report:\")\n",
        "print(classification_rep)\n"
      ]
    },
    {
      "cell_type": "markdown",
      "metadata": {
        "id": "H4_9OwrsXZlz"
      },
      "source": [
        "Tulis hasil evaluasi algoritma yang digunakan, jika Anda menggunakan 2 algoritma, maka bandingkan hasilnya."
      ]
    },
    {
      "cell_type": "markdown",
      "metadata": {
        "id": "ph9yIYDXEPuB"
      },
      "source": [
        "## **c. Tuning Model Klasifikasi (Optional)**"
      ]
    },
    {
      "cell_type": "markdown",
      "metadata": {
        "id": "-Bikx3LINv5e"
      },
      "source": [
        "Gunakan GridSearchCV, RandomizedSearchCV, atau metode lainnya untuk mencari kombinasi hyperparameter terbaik"
      ]
    },
    {
      "cell_type": "code",
      "execution_count": null,
      "metadata": {
        "id": "winbFzb8NL95"
      },
      "outputs": [],
      "source": [
        "#Type your code here"
      ]
    },
    {
      "cell_type": "markdown",
      "metadata": {
        "id": "hE7pqlEPEYzI"
      },
      "source": [
        "## **d. Evaluasi Model Klasifikasi setelah Tuning (Optional)**"
      ]
    },
    {
      "cell_type": "markdown",
      "metadata": {
        "id": "feaPESoeN0zz"
      },
      "source": [
        "Berikut adalah rekomendasi tahapannya.\n",
        "1. Gunakan model dengan hyperparameter terbaik.\n",
        "2. Hitung ulang metrik evaluasi untuk melihat apakah ada peningkatan performa."
      ]
    },
    {
      "cell_type": "code",
      "execution_count": null,
      "metadata": {
        "id": "HTXZRvEeNMb1"
      },
      "outputs": [],
      "source": [
        "#Type your code here"
      ]
    },
    {
      "cell_type": "markdown",
      "metadata": {
        "id": "ZRsOdm4uEgAW"
      },
      "source": [
        "## **e. Analisis Hasil Evaluasi Model Klasifikasi**"
      ]
    },
    {
      "cell_type": "markdown",
      "metadata": {
        "id": "Hm3BhSi6N4_l"
      },
      "source": [
        "Berikut adalah **rekomendasi** tahapannya.\n",
        "1. Bandingkan hasil evaluasi sebelum dan setelah tuning (jika dilakukan).\n",
        "2. Identifikasi kelemahan model, seperti:\n",
        "  - Precision atau Recall rendah untuk kelas tertentu.\n",
        "  - Apakah model mengalami overfitting atau underfitting?\n",
        "3. Berikan rekomendasi tindakan lanjutan, seperti mengumpulkan data tambahan atau mencoba algoritma lain jika hasil belum memuaskan."
      ]
    },
    {
      "cell_type": "markdown",
      "metadata": {},
      "source": [
        "## Analisis Hasil Evaluasi Model Klasifikasi\n",
        "\n",
        "Berdasarkan confusion matrix yang dihasilkan, berikut adalah analisis hasil evaluasi model klasifikasi menggunakan Random Forest:\n",
        "\n",
        "### Confusion Matrix:\n",
        "- **True Positives (TP)**: 136 (Cluster 1 diprediksi dengan benar sebagai Cluster 1)\n",
        "- **True Negatives (TN)**: 363 (Cluster 0 diprediksi dengan benar sebagai Cluster 0)\n",
        "- **False Positives (FP)**: 0 (Cluster 0 diprediksi salah sebagai Cluster 1)\n",
        "- **False Negatives (FN)**: 0 (Cluster 1 diprediksi salah sebagai Cluster 0)\n",
        "\n",
        "### Metrik Evaluasi:\n",
        "- **Akurasi**: 1.0 (100%)\n",
        "  - Akurasi adalah proporsi hasil yang benar (baik true positives maupun true negatives) dari total kasus yang diperiksa.\n",
        "- **Presisi**: 1.0 (100%)\n",
        "  - Presisi adalah proporsi hasil positif yang benar dalam hasil positif yang diprediksi.\n",
        "- **Recall**: 1.0 (100%)\n",
        "  - Recall adalah proporsi hasil positif yang benar dalam hasil positif yang sebenarnya.\n",
        "- **F1-Score**: 1.0 (100%)\n",
        "  - F1-Score adalah rata-rata harmonis dari presisi dan recall.\n",
        "\n",
        "### Interpretasi Hasil:\n",
        "1. **Kinerja Model**:\n",
        "   - Model telah mencapai akurasi, presisi, recall, dan F1-score yang sempurna. Ini menunjukkan bahwa model telah mengklasifikasikan semua instance dalam set uji dengan benar tanpa kesalahan.\n",
        "\n",
        "2. **Analisis Confusion Matrix**:\n",
        "   - Confusion matrix menunjukkan bahwa tidak ada false positives atau false negatives, yang berarti model tidak membuat prediksi yang salah.\n",
        "   - Semua instance dari Cluster 0 dan Cluster 1 telah diklasifikasikan dengan benar.\n",
        "\n",
        "3. **Implikasi Bisnis**:\n",
        "   - **Cluster 0**: Cluster ini mewakili kelompok pelanggan dengan karakteristik tertentu. Kemampuan model untuk mengklasifikasikan pelanggan ini dengan akurat dapat membantu dalam menargetkan mereka dengan strategi pemasaran khusus atau penawaran yang dipersonalisasi.\n",
        "   - **Cluster 1**: Cluster ini mewakili kelompok pelanggan lain dengan karakteristik yang berbeda dari pola lainnya tetapi memiliki pola yang suspicious sehingga perlu diperdalami lagi secara tracking history transaksi\n",
        "## Rekomendasi (Feature Engineering):\n",
        "**Pentingnya Fitur**:\n",
        "   - Analisis skor pentingnya fitur dari model Random Forest untuk memahami fitur mana yang paling berkontribusi terhadap klasifikasi. Ini dapat membantu dalam memperbaiki set fitur dan meningkatkan model lebih lanjut.\n",
        "   - Contoh kode untuk mendapatkan pentingnya fitur:\n",
        "     ```python\n",
        "     feature_importances = pd.DataFrame(rf_model.feature_importances_,\n",
        "                                        index=X_train.columns,\n",
        "                                        columns=['importance']).sort_values('importance', ascending=False)\n",
        "     print(feature_importances)\n",
        "     ```\n"
      ]
    },
    {
      "cell_type": "markdown",
      "metadata": {},
      "source": []
    }
  ],
  "metadata": {
    "colab": {
      "provenance": []
    },
    "kernelspec": {
      "display_name": "base",
      "language": "python",
      "name": "python3"
    },
    "language_info": {
      "codemirror_mode": {
        "name": "ipython",
        "version": 3
      },
      "file_extension": ".py",
      "mimetype": "text/x-python",
      "name": "python",
      "nbconvert_exporter": "python",
      "pygments_lexer": "ipython3",
      "version": "3.12.7"
    }
  },
  "nbformat": 4,
  "nbformat_minor": 0
}
